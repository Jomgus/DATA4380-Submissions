{
 "cells": [
  {
   "cell_type": "markdown",
   "id": "58f1396d",
   "metadata": {},
   "source": [
    "# Unix Shell\n",
    "\n",
    "There is a lot that can be done on the Unix shell command prompt. For homework, we will do some useful manipulations of CSV files.\n",
    "\n",
    "There is plenty of material online that will help you figure out how to do various tasks on the command line. Some example resources I found by googling:\n",
    "\n",
    "* Paths and Wildcards: https://www.warp.dev/terminus/linux-wildcards\n",
    "* General introduction to shell: https://github-pages.ucl.ac.uk/RCPSTrainingMaterials/HPCandHTCusingLegion/2_intro_to_shell.html\n",
    "* Manual pages: https://www.geeksforgeeks.org/linux-man-page-entries-different-types/?ref=ml_lbp\n",
    "* Chaining commands: https://www.geeksforgeeks.org/chaining-commands-in-linux/?ref=ml_lbp\n",
    "* Piping: https://www.geeksforgeeks.org/piping-in-unix-or-linux/\n",
    "* Using sed: https://www.geeksforgeeks.org/sed-command-linux-set-2/?ref=ml_lbp\n",
    "* Various Unix commands: https://www.geeksforgeeks.org/linux-commands/?ref=lbp\n",
    "* Cheat sheets:\n",
    "    * https://www.stationx.net/unix-commands-cheat-sheet/\n",
    "    * https://cheatography.com/davechild/cheat-sheets/linux-command-line/\n",
    "    * https://www.theknowledgeacademy.com/blog/unix-commands-cheat-sheet/\n",
    "    \n",
    "These aren't necessarily the best resources. Feel free to search for better ones. Also, don't forget that Unix has built-in manual pages for all of its commands. Just type `man <command>` at the command prompt. Use the space-bar to scroll through the documentation and \"q\" to exit."
   ]
  },
  {
   "cell_type": "markdown",
   "id": "f91ff382",
   "metadata": {},
   "source": [
    "## Homework (Due Friday 6/13)\n",
    "\n",
    "### Setup \n",
    "\n",
    "1. Make sure you have setup:\n",
    "    * Laptop setup with python, jupyter, and usual Data Science stack install via pip.\n",
    "    * Note if you are using Windows, you must setup via WSL.\n",
    "        * Must know how to read files in Windows disks from WSL Ubuntu VM?\n",
    "        * Must know how to read files in your WSL Ubuntu VM from Windows?\n",
    "\n",
    "2. Make sure you are setup to use GitHub on the command line in you Linux / MacOS environment:\n",
    "    * Make sure GitHub is properly setup\n",
    "        * Authentication\n",
    "        * Demonstrate you can push from the command prompt.\n",
    "    * Create a new repository for you work. Name it appropriately. Make it public. \n",
    "    * Organize it. e.g. You will do various projects. e.g. Sub-directories for each project.\n",
    "\n",
    "3. Install Kaggle API:\n",
    "    * Install [kaggle API](https://www.kaggle.com/docs/api).\n",
    "        * Setup your PATH environment variable.\n",
    "        * Be able to edit text files\n",
    "\n",
    "4. Create a directory in your Linux / MacOS filesystem where you will store the files. We will be using CSV files from the Kaggle challenges and datasets listed here. Download and unzip all of the datasets **using the Kaggle API**.\n",
    "    * https://www.kaggle.com/competitions/diabetes-prediction-with-nn\n",
    "    * https://www.kaggle.com/datasets/rishidamarla/heart-disease-prediction\n",
    "    * https://www.kaggle.com/competitions/used-car-price-prediction-competition\n",
    "    * https://www.kaggle.com/datasets/yasserh/housing-prices-dataset\n",
    "    * https://www.kaggle.com/datasets/simtoor/mall-customers\n",
    "    * https://www.kaggle.com/competitions/business-research-methods-world-university-rankings\n",
    "    * https://www.kaggle.com/datasets/m5anas/cancer-patient-data-sets\n",
    "        \n",
    "5. Setup for homework submission.\n",
    "    * Create a homework directory in your GitHub Repo where you will submit your solutions. \n",
    "    * Create a symbolic link from this directory to where you stored the downloaded datasets in step 4 below.\n",
    "    * **Do not commit any datafiles into GitHub.**\n",
    "        \n",
    "### Exercises        \n",
    "\n",
    "Perform all of these tasks on the Unix command prompt. Some may require several commands. Many will require chaining commands together. Once you figure out how to perform the task, copy paste the command(s) into a notebook that you will submit.\n",
    "\n",
    "\n",
    "1. Organize your dataset directory. Make a new directory for the original zip files, and move the files there. In case you accidentally mess up one of the CSV files, you'll be able unzip the data again. \n",
    "\n",
    "Hint: use `mkdir` and `mv` commands with appropriate wildcards.\n",
    "\n",
    "2. The \"diabetes_prediction_dataset.csv\" file has a lot of entries. Create 3 new CSV files, each with about 1/3 of the data.\n",
    "\n",
    "Hints: \n",
    "* Use `head` to get first line.  \n",
    "* First create 3 files with just the first line by redirecting output of `head` into a file using `>`.\n",
    "* Use `wc` to count the number of entries\n",
    "* Chain/pipe `head` and `tail` to select specific lines, redirecting output to append to the 3 files you created using `>>`.\n",
    "\n",
    "\n",
    "3. Create 2 new CSV files from `Heart_Disease_Prediction.csv`, one containing rows with \"Presence\" label and another with \"Absence\" label. Make sure that the first line of each file contains the field names. \n",
    "\n",
    "Hints: \n",
    "* Use `head` to get first line.  \n",
    "* First create 2 files with just the first line by redirecting output of `head` into a file using `>`.\n",
    "* Use `grep` to select lines that contain \"Absence\" or \"Presence\" and append the output to the appropriate file created in the previous step.\n",
    "\n",
    "\n",
    "4. What fraction of cars in `car_web_scraped_dataset.csv` have had no accidents?\n",
    "\n",
    "Hints:\n",
    "* Use `grep` to select the appropriate lines.\n",
    "* Pipe the output of grep into `wc` (using `|`) to count the lines.\n",
    "\n",
    "\n",
    "5. Make the following replacements in `Housing.csv`, output the result into a new CSV:\n",
    "\n",
    "* yes -> 1\n",
    "* no -> 0\n",
    "* unfurnished -> 0\n",
    "* furnished -> 1\n",
    "* semi-furnished -> 2\n",
    "    \n",
    "Hints:\n",
    "* Use `sed` to do the replacement.\n",
    "* Use pipes to chain multiple `sed` commands.\n",
    "* To avoid replacing \"unfurnished\" or \"semi-furnished\" when performing the \"furnished\" replacement, try replacing \",furnished\" with \",1\".\n",
    "\n",
    "\n",
    "6. Create a new CSV files from `Mall_Customers`, removing \"CustomerID\" column.\n",
    "\n",
    "Hints:\n",
    "* Use `cut` command\n",
    "* Default separator for `cut` is the space character. For CSV, you have to use option `-d ','`.\n",
    "\n",
    "\n",
    "7. Create a new file that contains the sum of the following fields for each row:\n",
    "    * Research Quality Score\n",
    "    * Industry Score\n",
    "    * International Outlook\n",
    "    * Research Environment Score\n",
    "    \n",
    "Hints:\n",
    "* Use `cut` to select the correct columns.\n",
    "* Use `tr` to replace ',' with '+'.\n",
    "* Pipe output into `bc` to compute the sum.\n",
    "\n",
    "\n",
    "8. Sort the `cancer patient data sets.csv` file by age. Make sure the output is a readable CSV file.\n",
    "\n",
    "Hints:\n",
    "* Use sort with `-n`, `-t`, and `-k` options. "
   ]
  },
  {
   "cell_type": "code",
   "execution_count": 3,
   "id": "df6832f5",
   "metadata": {
    "vscode": {
     "languageId": "shellscript"
    }
   },
   "outputs": [
    {
     "name": "stdout",
     "output_type": "stream",
     "text": [
      "/Users/jomus/utaenv/bin/python3\n"
     ]
    }
   ],
   "source": [
    "!which python3"
   ]
  },
  {
   "cell_type": "code",
   "execution_count": 8,
   "id": "9f9a2440",
   "metadata": {
    "vscode": {
     "languageId": "shellscript"
    }
   },
   "outputs": [
    {
     "name": "stdout",
     "output_type": "stream",
     "text": [
      "/Users/jomus/Code/kagglesets\n"
     ]
    }
   ],
   "source": [
    "cd /Users/jomus/Code/kagglesets"
   ]
  },
  {
   "cell_type": "markdown",
   "id": "998ff1f6",
   "metadata": {},
   "source": [
    "## EX 1"
   ]
  },
  {
   "cell_type": "code",
   "execution_count": 13,
   "id": "2ade91b2",
   "metadata": {
    "vscode": {
     "languageId": "shellscript"
    }
   },
   "outputs": [],
   "source": [
    "mkdir zipfiles"
   ]
  },
  {
   "cell_type": "code",
   "execution_count": 16,
   "id": "5f7e2a46",
   "metadata": {
    "vscode": {
     "languageId": "shellscript"
    }
   },
   "outputs": [],
   "source": [
    "mv heart-disease-prediction.zip zipfiles/"
   ]
  },
  {
   "cell_type": "markdown",
   "id": "8308ea62",
   "metadata": {},
   "source": [
    "## Ex 2"
   ]
  },
  {
   "cell_type": "code",
   "execution_count": 48,
   "id": "057c70b7",
   "metadata": {
    "vscode": {
     "languageId": "shellscript"
    }
   },
   "outputs": [
    {
     "name": "stdout",
     "output_type": "stream",
     "text": [
      "Age,Sex,Chest pain type,BP,Cholesterol,FBS over 120,EKG results,Max HR,Exercise angina,ST depression,Slope of ST,Number of vessels fluro,Thallium,Heart Disease\n"
     ]
    }
   ],
   "source": [
    "!head HDPcopy1.csv"
   ]
  },
  {
   "cell_type": "code",
   "execution_count": 31,
   "id": "bbdb8cd2",
   "metadata": {
    "vscode": {
     "languageId": "shellscript"
    }
   },
   "outputs": [],
   "source": [
    "!head -n 1 Heart_Disease_Prediction.csv > HDPcopy2.csv "
   ]
  },
  {
   "cell_type": "code",
   "execution_count": 32,
   "id": "b87f7846",
   "metadata": {
    "vscode": {
     "languageId": "shellscript"
    }
   },
   "outputs": [],
   "source": [
    "!head -n 1 Heart_Disease_Prediction.csv > HDPcopy3.csv"
   ]
  },
  {
   "cell_type": "code",
   "execution_count": 33,
   "id": "5e3c3a52",
   "metadata": {
    "vscode": {
     "languageId": "shellscript"
    }
   },
   "outputs": [
    {
     "name": "stdout",
     "output_type": "stream",
     "text": [
      "HDPcopy1.csv                  Heart_Disease_Prediction.csv\n",
      "HDPcopy2.csv                  \u001b[34mzipfiles\u001b[m\u001b[m/\n",
      "HDPcopy3.csv\n"
     ]
    }
   ],
   "source": [
    "ls"
   ]
  },
  {
   "cell_type": "code",
   "execution_count": 37,
   "id": "835819b7",
   "metadata": {
    "vscode": {
     "languageId": "shellscript"
    }
   },
   "outputs": [
    {
     "name": "stdout",
     "output_type": "stream",
     "text": [
      "     270 Heart_Disease_Prediction.csv\n"
     ]
    },
    {
     "data": {
      "text/plain": [
       "89.66666666666667"
      ]
     },
     "execution_count": 37,
     "metadata": {},
     "output_type": "execute_result"
    }
   ],
   "source": [
    "!wc -l Heart_Disease_Prediction.csv\n",
    "\n",
    "269/3"
   ]
  },
  {
   "cell_type": "code",
   "execution_count": 64,
   "id": "effd1672",
   "metadata": {
    "vscode": {
     "languageId": "shellscript"
    }
   },
   "outputs": [],
   "source": [
    "!head -n 89 Heart_Disease_Prediction.csv | tail -88 >> HDPcopy1.csv\n",
    "\n",
    "# this takes the head of the csv and then pipes it to tail to get the last lines"
   ]
  },
  {
   "cell_type": "code",
   "execution_count": 67,
   "id": "a94f03d7",
   "metadata": {
    "vscode": {
     "languageId": "shellscript"
    }
   },
   "outputs": [
    {
     "name": "stdout",
     "output_type": "stream",
     "text": [
      "Age,Sex,Chest pain type,BP,Cholesterol,FBS over 120,EKG results,Max HR,Exercise angina,ST depression,Slope of ST,Number of vessels fluro,Thallium,Heart Disease\n",
      "70,1,4,130,322,0,2,109,0,2.4,2,3,3,Presence\n",
      "67,0,3,115,564,0,2,160,0,1.6,2,0,7,Absence\n",
      "57,1,2,124,261,0,0,141,0,0.3,1,0,7,Presence\n",
      "64,1,4,128,263,0,0,105,1,0.2,2,1,7,Absence\n",
      "74,0,2,120,269,0,2,121,1,0.2,1,1,3,Absence\n",
      "65,1,4,120,177,0,0,140,0,0.4,1,0,7,Absence\n",
      "56,1,3,130,256,1,2,142,1,0.6,2,1,6,Presence\n",
      "59,1,4,110,239,0,2,142,1,1.2,2,1,7,Presence\n",
      "60,1,4,140,293,0,2,170,0,1.2,2,2,7,Presence\n",
      "      89 HDPcopy1.csv\n"
     ]
    }
   ],
   "source": [
    "!head HDPcopy1.csv\n",
    "!wc -l HDPcopy1.csv"
   ]
  },
  {
   "cell_type": "code",
   "execution_count": 69,
   "id": "07156668",
   "metadata": {
    "vscode": {
     "languageId": "shellscript"
    }
   },
   "outputs": [],
   "source": [
    "!head -n 179 Heart_Disease_Prediction.csv | tail -n 89 >> HDPcopy2.csv"
   ]
  },
  {
   "cell_type": "code",
   "execution_count": 71,
   "id": "587a6ee0",
   "metadata": {
    "vscode": {
     "languageId": "shellscript"
    }
   },
   "outputs": [],
   "source": [
    "!tail -n 90 Heart_Disease_Prediction.csv >> HDPcopy3.csv"
   ]
  },
  {
   "cell_type": "code",
   "execution_count": 74,
   "id": "c1aa11e3",
   "metadata": {
    "vscode": {
     "languageId": "shellscript"
    }
   },
   "outputs": [
    {
     "name": "stdout",
     "output_type": "stream",
     "text": [
      "Age,Sex,Chest pain type,BP,Cholesterol,FBS over 120,EKG results,Max HR,Exercise angina,ST depression,Slope of ST,Number of vessels fluro,Thallium,Heart Disease\n",
      "50,1,4,150,243,0,2,128,0,2.6,2,0,7,Presence\n",
      "59,1,2,140,221,0,0,164,1,0,1,0,3,Absence\n",
      "61,0,4,130,330,0,2,169,0,0,1,0,3,Presence\n",
      "54,1,4,124,266,0,2,109,1,2.2,2,1,7,Presence\n",
      "54,1,4,110,206,0,2,108,1,0,2,1,3,Presence\n",
      "52,1,4,125,212,0,0,168,0,1,1,2,7,Presence\n",
      "47,1,4,110,275,0,2,118,1,1,2,1,3,Presence\n",
      "66,1,4,120,302,0,2,151,0,0.4,2,0,3,Absence\n",
      "58,1,4,100,234,0,0,156,0,0.1,1,1,7,Presence\n",
      "Age,Sex,Chest pain type,BP,Cholesterol,FBS over 120,EKG results,Max HR,Exercise angina,ST depression,Slope of ST,Number of vessels fluro,Thallium,Heart Disease\n",
      "42,1,3,120,240,1,0,194,0,0.8,3,0,7,Absence\n",
      "56,0,4,134,409,0,2,150,1,1.9,2,2,7,Presence\n",
      "41,1,4,110,172,0,2,158,0,0,1,0,7,Presence\n",
      "42,0,4,102,265,0,2,122,0,0.6,2,0,3,Absence\n",
      "53,1,3,130,246,1,2,173,0,0,1,3,3,Absence\n",
      "43,1,3,130,315,0,0,162,0,1.9,1,1,3,Absence\n",
      "56,1,4,132,184,0,2,105,1,2.1,2,1,6,Presence\n",
      "52,1,4,108,233,1,0,147,0,0.1,1,3,7,Absence\n",
      "62,0,4,140,394,0,2,157,0,1.2,2,0,3,Absence\n",
      "      90 HDPcopy2.csv\n",
      "      90 HDPcopy3.csv\n"
     ]
    }
   ],
   "source": [
    "!head HDPcopy2.csv\n",
    "!head HDPcopy3.csv\n",
    "!wc -l HDPcopy2.csv\n",
    "!wc -l HDPcopy3.csv"
   ]
  },
  {
   "cell_type": "markdown",
   "id": "1a7da961",
   "metadata": {},
   "source": [
    "# EX 3"
   ]
  },
  {
   "cell_type": "code",
   "execution_count": 75,
   "id": "9d9eecc5",
   "metadata": {
    "vscode": {
     "languageId": "shellscript"
    }
   },
   "outputs": [
    {
     "name": "stdout",
     "output_type": "stream",
     "text": [
      "HDPcopy1.csv                  Heart_Disease_Prediction.csv\n",
      "HDPcopy2.csv                  \u001b[34mzipfiles\u001b[m\u001b[m/\n",
      "HDPcopy3.csv\n"
     ]
    }
   ],
   "source": [
    "ls"
   ]
  },
  {
   "cell_type": "code",
   "execution_count": 78,
   "id": "ff5440f2",
   "metadata": {
    "vscode": {
     "languageId": "shellscript"
    }
   },
   "outputs": [],
   "source": [
    "!head -n 1 Heart_Disease_Prediction.csv > Prescence.csv\n",
    "!head -n 1 Heart_Disease_Prediction.csv > Absence.csv"
   ]
  },
  {
   "cell_type": "code",
   "execution_count": 80,
   "id": "8061d47f",
   "metadata": {
    "vscode": {
     "languageId": "shellscript"
    }
   },
   "outputs": [
    {
     "name": "stdout",
     "output_type": "stream",
     "text": [
      "Absence.csv                   Heart_Disease_Prediction.csv\n",
      "HDPcopy1.csv                  Prescence.csv\n",
      "HDPcopy2.csv                  \u001b[34mzipfiles\u001b[m\u001b[m/\n",
      "HDPcopy3.csv\n"
     ]
    }
   ],
   "source": [
    "ls"
   ]
  },
  {
   "cell_type": "code",
   "execution_count": 81,
   "id": "6586b649",
   "metadata": {
    "vscode": {
     "languageId": "shellscript"
    }
   },
   "outputs": [
    {
     "name": "stdout",
     "output_type": "stream",
     "text": [
      "Age,Sex,Chest pain type,BP,Cholesterol,FBS over 120,EKG results,Max HR,Exercise angina,ST depression,Slope of ST,Number of vessels fluro,Thallium,Heart Disease\n"
     ]
    }
   ],
   "source": [
    "!head Absence.csv\n"
   ]
  },
  {
   "cell_type": "code",
   "execution_count": 91,
   "id": "c9c66194",
   "metadata": {
    "vscode": {
     "languageId": "shellscript"
    }
   },
   "outputs": [],
   "source": [
    "!grep \"Absence\" Heart_Disease_Prediction.csv >> Absence.csv"
   ]
  },
  {
   "cell_type": "code",
   "execution_count": 92,
   "id": "9e4b50c3",
   "metadata": {
    "vscode": {
     "languageId": "shellscript"
    }
   },
   "outputs": [],
   "source": [
    "!grep \"Presence\" Heart_Disease_Prediction.csv >> Prescence.csv"
   ]
  },
  {
   "cell_type": "code",
   "execution_count": 94,
   "id": "d6ec9482",
   "metadata": {
    "vscode": {
     "languageId": "shellscript"
    }
   },
   "outputs": [
    {
     "name": "stdout",
     "output_type": "stream",
     "text": [
      "Age,Sex,Chest pain type,BP,Cholesterol,FBS over 120,EKG results,Max HR,Exercise angina,ST depression,Slope of ST,Number of vessels fluro,Thallium,Heart Disease\n",
      "67,0,3,115,564,0,2,160,0,1.6,2,0,7,Absence\n",
      "64,1,4,128,263,0,0,105,1,0.2,2,1,7,Absence\n",
      "74,0,2,120,269,0,2,121,1,0.2,1,1,3,Absence\n",
      "65,1,4,120,177,0,0,140,0,0.4,1,0,7,Absence\n",
      "59,1,4,135,234,0,0,161,0,0.5,2,0,7,Absence\n",
      "53,1,4,142,226,0,2,111,1,0,1,0,7,Absence\n",
      "44,1,3,140,235,0,2,180,0,0,1,0,3,Absence\n",
      "57,0,4,128,303,0,2,159,0,0,1,1,3,Absence\n",
      "71,0,4,112,149,0,0,125,0,1.6,2,0,3,Absence\n",
      "Age,Sex,Chest pain type,BP,Cholesterol,FBS over 120,EKG results,Max HR,Exercise angina,ST depression,Slope of ST,Number of vessels fluro,Thallium,Heart Disease\n",
      "70,1,4,130,322,0,2,109,0,2.4,2,3,3,Presence\n",
      "57,1,2,124,261,0,0,141,0,0.3,1,0,7,Presence\n",
      "56,1,3,130,256,1,2,142,1,0.6,2,1,6,Presence\n",
      "59,1,4,110,239,0,2,142,1,1.2,2,1,7,Presence\n",
      "60,1,4,140,293,0,2,170,0,1.2,2,2,7,Presence\n",
      "63,0,4,150,407,0,2,154,0,4,2,3,7,Presence\n",
      "61,1,1,134,234,0,0,145,0,2.6,2,2,3,Presence\n",
      "46,1,4,140,311,0,0,120,1,1.8,2,2,7,Presence\n",
      "53,1,4,140,203,1,2,155,1,3.1,3,0,7,Presence\n"
     ]
    }
   ],
   "source": [
    "!head Absence.csv\n",
    "!head Prescence.csv"
   ]
  },
  {
   "cell_type": "code",
   "execution_count": null,
   "id": "8c02b8b0",
   "metadata": {
    "vscode": {
     "languageId": "shellscript"
    }
   },
   "outputs": [
    {
     "name": "stdout",
     "output_type": "stream",
     "text": [
      "Absence.csv                   Heart_Disease_Prediction.csv\n",
      "HDPcopy1.csv                  Prescence.csv\n",
      "HDPcopy2.csv                  \u001b[34mzipfiles\u001b[m\u001b[m/\n",
      "HDPcopy3.csv\n"
     ]
    }
   ],
   "source": [
    "ls"
   ]
  },
  {
   "cell_type": "markdown",
   "id": "002a30a1",
   "metadata": {},
   "source": [
    "# EX 4"
   ]
  },
  {
   "cell_type": "code",
   "execution_count": 100,
   "id": "8b1cc691",
   "metadata": {
    "vscode": {
     "languageId": "shellscript"
    }
   },
   "outputs": [],
   "source": [
    "# downloaded the csv files provided in teams "
   ]
  },
  {
   "cell_type": "code",
   "execution_count": 102,
   "id": "29b5b57e",
   "metadata": {
    "vscode": {
     "languageId": "shellscript"
    }
   },
   "outputs": [
    {
     "name": "stdout",
     "output_type": "stream",
     "text": [
      "/Users/jomus/Code/kagglesets/datasets\n"
     ]
    }
   ],
   "source": [
    "cd datasets/"
   ]
  },
  {
   "cell_type": "code",
   "execution_count": 103,
   "id": "5c46df6f",
   "metadata": {
    "vscode": {
     "languageId": "shellscript"
    }
   },
   "outputs": [
    {
     "name": "stdout",
     "output_type": "stream",
     "text": [
      "Heart_Disease_Prediction.csv\n",
      "Housing.csv\n",
      "Mall_Customers.csv\n",
      "Titanic-Dataset.csv\n",
      "breast-cancer-wisconsin-data_data.csv\n",
      "cancer patient data sets.csv\n",
      "car_web_scraped_dataset.csv\n",
      "diabetes_prediction_dataset.csv\n",
      "diabetes_prediction_dataset_1000.csv\n",
      "solution.src\n",
      "starbucks.csv\n",
      "world all university rank and rank score.csv\n",
      "\u001b[34mzip_files\u001b[m\u001b[m/\n"
     ]
    }
   ],
   "source": [
    "ls"
   ]
  },
  {
   "cell_type": "code",
   "execution_count": 105,
   "id": "af827a70",
   "metadata": {
    "vscode": {
     "languageId": "shellscript"
    }
   },
   "outputs": [
    {
     "name": "stdout",
     "output_type": "stream",
     "text": [
      "name,year,miles,color,condition,price\n",
      "Kia Forte,2022,\"41,406 miles\",\"Gray exterior, Black interior\",\"No accidents reported, 1 Owner\",\"$15,988\"\n",
      "Chevrolet Silverado 1500,2021,\"15,138 miles\",\"White exterior, Black interior\",\"1 accident reported, 1 Owner\",\"$38,008\"\n",
      "Toyota RAV4,2022,\"32,879 miles\",\"Silver exterior, Unknown interior\",\"No accidents reported, 1 Owner\",\"$24,988\"\n",
      "Honda Civic,2020,\"37,190 miles\",\"Blue exterior, Black interior\",\"No accidents reported, 1 Owner\",\"$18,998\"\n",
      "Honda Civic,2020,\"27,496 miles\",\"Black exterior, Black interior\",\"No accidents reported, 1 Owner\",\"$19,498\"\n",
      "Honda Civic,2020,\"29,026 miles\",\"Silver exterior, Black interior\",\"1 accident reported, 1 Owner\",\"$21,000\"\n",
      "Honda Accord,2019,\"4,148 miles\",\"Black exterior, Black interior\",\"1 accident reported, 1 Owner\",\"$20,998\"\n",
      "Mercedes-Benz GLC,2018,\"57,602 miles\",\"Blue exterior, Unknown interior\",\"1 accident reported, 3 Owners\",\"$18,887\"\n",
      "Honda Civic,2020,\"50,240 miles\",\"Black exterior, Black interior\",\"1 accident reported, 1 Owner\",\"$19,498\"\n"
     ]
    }
   ],
   "source": [
    "!head car_web_scraped_dataset.csv"
   ]
  },
  {
   "cell_type": "code",
   "execution_count": 108,
   "id": "b950f101",
   "metadata": {
    "vscode": {
     "languageId": "shellscript"
    }
   },
   "outputs": [
    {
     "name": "stdout",
     "output_type": "stream",
     "text": [
      "    2223\n"
     ]
    }
   ],
   "source": [
    "!grep \"No accidents reported\" car_web_scraped_dataset.csv | wc -l"
   ]
  },
  {
   "cell_type": "code",
   "execution_count": 114,
   "id": "bd9e1582",
   "metadata": {
    "vscode": {
     "languageId": "shellscript"
    }
   },
   "outputs": [
    {
     "name": "stdout",
     "output_type": "stream",
     "text": [
      "    2841 car_web_scraped_dataset.csv\n"
     ]
    }
   ],
   "source": [
    "!wc -l car_web_scraped_dataset.csv\n",
    "\n"
   ]
  },
  {
   "cell_type": "markdown",
   "id": "991d744b",
   "metadata": {},
   "source": [
    "THEREFOR the fraction is 2223 with no accidents over 2840 total (subtract one from total because it is column names)"
   ]
  },
  {
   "cell_type": "code",
   "execution_count": 115,
   "id": "9a4162ca",
   "metadata": {
    "vscode": {
     "languageId": "shellscript"
    }
   },
   "outputs": [
    {
     "data": {
      "text/plain": [
       "0.7824709609292503"
      ]
     },
     "execution_count": 115,
     "metadata": {},
     "output_type": "execute_result"
    }
   ],
   "source": [
    "2223/2841"
   ]
  },
  {
   "cell_type": "markdown",
   "id": "515c4a4a",
   "metadata": {},
   "source": [
    "# EX 5"
   ]
  },
  {
   "cell_type": "code",
   "execution_count": 116,
   "id": "074d9c28",
   "metadata": {
    "vscode": {
     "languageId": "shellscript"
    }
   },
   "outputs": [
    {
     "name": "stdout",
     "output_type": "stream",
     "text": [
      "price,area,bedrooms,bathrooms,stories,mainroad,guestroom,basement,hotwaterheating,airconditioning,parking,prefarea,furnishingstatus\n",
      "13300000,7420,4,2,3,yes,no,no,no,yes,2,yes,furnished\n",
      "12250000,8960,4,4,4,yes,no,no,no,yes,3,no,furnished\n",
      "12250000,9960,3,2,2,yes,no,yes,no,no,2,yes,semi-furnished\n",
      "12215000,7500,4,2,2,yes,no,yes,no,yes,3,yes,furnished\n",
      "11410000,7420,4,1,2,yes,yes,yes,no,yes,2,no,furnished\n",
      "10850000,7500,3,3,1,yes,no,yes,no,yes,2,yes,semi-furnished\n",
      "10150000,8580,4,3,4,yes,no,no,no,yes,2,yes,semi-furnished\n",
      "10150000,16200,5,3,2,yes,no,no,no,no,0,no,unfurnished\n",
      "9870000,8100,4,1,2,yes,yes,yes,no,yes,2,yes,furnished\n"
     ]
    }
   ],
   "source": [
    "!head Housing.csv"
   ]
  },
  {
   "cell_type": "markdown",
   "id": "c2fc33e6",
   "metadata": {},
   "source": [
    "sed used like s/yes/1/g \n",
    "with s being substitute, g being global and yes being original and 1 being changed"
   ]
  },
  {
   "cell_type": "code",
   "execution_count": 118,
   "id": "eab9fa1c",
   "metadata": {
    "vscode": {
     "languageId": "shellscript"
    }
   },
   "outputs": [],
   "source": [
    "!sed 's/yes/1/g' Housing.csv | sed 's/no/0/g' | sed 's/unfurnished/0/g' | sed 's/,furnished/,1/g' | sed 's/semi-furnished/2/g' > Housing_new.csv"
   ]
  },
  {
   "cell_type": "code",
   "execution_count": 124,
   "id": "675c5fb2",
   "metadata": {
    "vscode": {
     "languageId": "shellscript"
    }
   },
   "outputs": [
    {
     "name": "stdout",
     "output_type": "stream",
     "text": [
      "Heart_Disease_Prediction.csv\n",
      "Housing.csv\n",
      "Housing_new.csv\n"
     ]
    }
   ],
   "source": [
    "ls | head -n 3"
   ]
  },
  {
   "cell_type": "code",
   "execution_count": 125,
   "id": "34d93073",
   "metadata": {
    "vscode": {
     "languageId": "shellscript"
    }
   },
   "outputs": [
    {
     "name": "stdout",
     "output_type": "stream",
     "text": [
      "price,area,bedrooms,bathrooms,stories,mainroad,guestroom,basement,hotwaterheating,airconditioning,parking,prefarea,furnishingstatus\n",
      "13300000,7420,4,2,3,1,0,0,0,1,2,1,1\n",
      "12250000,8960,4,4,4,1,0,0,0,1,3,0,1\n",
      "12250000,9960,3,2,2,1,0,1,0,0,2,1,2\n",
      "12215000,7500,4,2,2,1,0,1,0,1,3,1,1\n",
      "11410000,7420,4,1,2,1,1,1,0,1,2,0,1\n",
      "10850000,7500,3,3,1,1,0,1,0,1,2,1,2\n",
      "10150000,8580,4,3,4,1,0,0,0,1,2,1,2\n",
      "10150000,16200,5,3,2,1,0,0,0,0,0,0,0\n",
      "9870000,8100,4,1,2,1,1,1,0,1,2,1,1\n"
     ]
    }
   ],
   "source": [
    "!head Housing_new.csv"
   ]
  },
  {
   "cell_type": "markdown",
   "id": "8878a187",
   "metadata": {},
   "source": [
    "# EX 6"
   ]
  },
  {
   "cell_type": "code",
   "execution_count": 126,
   "id": "c8737f58",
   "metadata": {
    "vscode": {
     "languageId": "shellscript"
    }
   },
   "outputs": [
    {
     "name": "stdout",
     "output_type": "stream",
     "text": [
      "Mall_Customers.csv\n"
     ]
    }
   ],
   "source": [
    "ls | grep \"Mall\""
   ]
  },
  {
   "cell_type": "code",
   "execution_count": 127,
   "id": "e4bfeb71",
   "metadata": {
    "vscode": {
     "languageId": "shellscript"
    }
   },
   "outputs": [
    {
     "name": "stdout",
     "output_type": "stream",
     "text": [
      "CustomerID,Gender,Age,Annual Income (k$),Spending Score (1-100)\n",
      "1,Male,19,15,39\n",
      "2,Male,21,15,81\n",
      "3,Female,20,16,6\n",
      "4,Female,23,16,77\n",
      "5,Female,31,17,40\n"
     ]
    }
   ],
   "source": [
    "!head -n 6 Mall_Customers.csv"
   ]
  },
  {
   "cell_type": "code",
   "execution_count": 129,
   "id": "954736cb",
   "metadata": {
    "vscode": {
     "languageId": "shellscript"
    }
   },
   "outputs": [],
   "source": [
    "!cut -d ',' -f2- Mall_Customers.csv > new_Mall_Customers.csv"
   ]
  },
  {
   "cell_type": "markdown",
   "id": "b3daf115",
   "metadata": {},
   "source": [
    "-f2- extracts from the second column to last"
   ]
  },
  {
   "cell_type": "code",
   "execution_count": 130,
   "id": "e696a1cf",
   "metadata": {
    "vscode": {
     "languageId": "shellscript"
    }
   },
   "outputs": [
    {
     "name": "stdout",
     "output_type": "stream",
     "text": [
      "Gender,Age,Annual Income (k$),Spending Score (1-100)\n",
      "Male,19,15,39\n",
      "Male,21,15,81\n",
      "Female,20,16,6\n",
      "Female,23,16,77\n",
      "Female,31,17,40\n",
      "Female,22,17,76\n",
      "Female,35,18,6\n",
      "Female,23,18,94\n",
      "Male,64,19,3\n"
     ]
    }
   ],
   "source": [
    "!head new_Mall_Customers.csv"
   ]
  },
  {
   "cell_type": "markdown",
   "id": "917aae5b",
   "metadata": {},
   "source": [
    "# EX 7\n",
    "\n",
    "### Create a new file that contains the sum of the following fields for each row:\n",
    "    * Research Quality Score\n",
    "    * Industry Score\n",
    "    * International Outlook\n",
    "    * Research Environment Score"
   ]
  },
  {
   "cell_type": "code",
   "execution_count": 139,
   "id": "74fd3b37",
   "metadata": {
    "vscode": {
     "languageId": "shellscript"
    }
   },
   "outputs": [
    {
     "name": "stdout",
     "output_type": "stream",
     "text": [
      "Heart_Disease_Prediction.csv\n",
      "Housing.csv\n",
      "Housing_new.csv\n",
      "Mall_Customers.csv\n",
      "Titanic-Dataset.csv\n",
      "breast-cancer-wisconsin-data_data.csv\n",
      "cancer patient data sets.csv\n",
      "car_web_scraped_dataset.csv\n",
      "diabetes_prediction_dataset.csv\n",
      "diabetes_prediction_dataset_1000.csv\n",
      "new_Mall_Customers.csv\n",
      "solution.src\n",
      "starbucks.csv\n",
      "world all university rank and rank score.csv\n",
      "\u001b[34mzip_files\u001b[m\u001b[m/\n"
     ]
    }
   ],
   "source": [
    "ls"
   ]
  },
  {
   "cell_type": "code",
   "execution_count": 138,
   "id": "a5d45401",
   "metadata": {
    "vscode": {
     "languageId": "shellscript"
    }
   },
   "outputs": [
    {
     "name": "stdout",
     "output_type": "stream",
     "text": [
      "rank,ranking-institution-title,location,Overall scores,Research Quality Score,Industry Score,International Outlook,Research Environment Score,Teaching Score\n",
      "1,Massachusetts Institute of Technology,United States,94.8,92.2,99.9,89.6,96.5,96\n",
      "2,Stanford University,United States,93.4,91.9,100,83.5,91.8,98.2\n",
      "3,Harvard University,United States,92.4,95.2,69.8,82.1,93.4,95\n",
      "4,\"University of California, Berkeley\",United States,91.9,95.2,90.6,83.5,92.7,91.1\n",
      "5,University of Cambridge,United Kingdom,91.7,86.6,76.7,95.4,94.6,93.8\n",
      "5,University of Oxford,United Kingdom,91.7,81.7,89.4,94.5,97.4,93.5\n",
      "7,The University of Chicago,United States,91.3,95.8,67.6,79,93.5,91.9\n",
      "8,Tsinghua University,China,90,82.5,99.5,77.7,95.2,93.2\n",
      "9,Yale University,United States,89.5,86.9,67.8,85.1,89.3,96.1\n"
     ]
    }
   ],
   "source": [
    "!head \"world all university rank and rank score.csv\""
   ]
  },
  {
   "cell_type": "code",
   "execution_count": null,
   "id": "66a465f2",
   "metadata": {
    "vscode": {
     "languageId": "shellscript"
    }
   },
   "outputs": [],
   "source": []
  },
  {
   "cell_type": "code",
   "execution_count": 183,
   "id": "d9259940",
   "metadata": {
    "vscode": {
     "languageId": "shellscript"
    }
   },
   "outputs": [
    {
     "name": "stdout",
     "output_type": "stream",
     "text": [
      "\n",
      "Parse error: bad character '�'\n",
      "    <stdin>:161\n",
      "\n"
     ]
    }
   ],
   "source": [
    "!tail -n +2 \"world all university rank and rank score.csv\" | cut -d ',' -f5-8 |tr ',' '+' | bc > world_university_rank_sum.csv"
   ]
  },
  {
   "cell_type": "code",
   "execution_count": 184,
   "id": "37eda6e6",
   "metadata": {
    "vscode": {
     "languageId": "shellscript"
    }
   },
   "outputs": [
    {
     "name": "stdout",
     "output_type": "stream",
     "text": [
      "378.2\n",
      "367.2\n",
      "340.5\n",
      "361.2\n",
      "353.3\n",
      "363.0\n",
      "335.9\n",
      "354.9\n",
      "329.1\n",
      "355.7\n"
     ]
    }
   ],
   "source": [
    "!head world_university_rank_sum.csv"
   ]
  },
  {
   "cell_type": "markdown",
   "id": "71e5bdbb",
   "metadata": {},
   "source": [
    "Says parse error but sums have transferred "
   ]
  },
  {
   "cell_type": "markdown",
   "id": "8b895570",
   "metadata": {},
   "source": [
    "# EX 8"
   ]
  },
  {
   "cell_type": "code",
   "execution_count": 185,
   "id": "185ccec1",
   "metadata": {
    "vscode": {
     "languageId": "shellscript"
    }
   },
   "outputs": [
    {
     "name": "stdout",
     "output_type": "stream",
     "text": [
      "Heart_Disease_Prediction.csv\n",
      "Housing.csv\n",
      "Housing_new.csv\n",
      "Mall_Customers.csv\n",
      "Titanic-Dataset.csv\n",
      "breast-cancer-wisconsin-data_data.csv\n",
      "cancer patient data sets.csv\n",
      "car_web_scraped_dataset.csv\n",
      "diabetes_prediction_dataset.csv\n",
      "diabetes_prediction_dataset_1000.csv\n",
      "new_Mall_Customers.csv\n",
      "rankingsums.csv\n",
      "solution.src\n",
      "starbucks.csv\n",
      "world all university rank and rank score.csv\n",
      "world_university_rank_sum.csv\n",
      "\u001b[34mzip_files\u001b[m\u001b[m/\n"
     ]
    }
   ],
   "source": [
    "ls"
   ]
  },
  {
   "cell_type": "code",
   "execution_count": 186,
   "id": "8e37feb9",
   "metadata": {
    "vscode": {
     "languageId": "shellscript"
    }
   },
   "outputs": [
    {
     "name": "stdout",
     "output_type": "stream",
     "text": [
      "index,Patient Id,Age,Gender,Air Pollution,Alcohol use,Dust Allergy,OccuPational Hazards,Genetic Risk,chronic Lung Disease,Balanced Diet,Obesity,Smoking,Passive Smoker,Chest Pain,Coughing of Blood,Fatigue,Weight Loss,Shortness of Breath,Wheezing,Swallowing Difficulty,Clubbing of Finger Nails,Frequent Cold,Dry Cough,Snoring,Level\n",
      "0,P1,33,1,2,4,5,4,3,2,2,4,3,2,2,4,3,4,2,2,3,1,2,3,4,Low\n",
      "1,P10,17,1,3,1,5,3,4,2,2,2,2,4,2,3,1,3,7,8,6,2,1,7,2,Medium\n",
      "2,P100,35,1,4,5,6,5,5,4,6,7,2,3,4,8,8,7,9,2,1,4,6,7,2,High\n",
      "3,P1000,37,1,7,7,7,7,6,7,7,7,7,7,7,8,4,2,3,1,4,5,6,7,5,High\n",
      "4,P101,46,1,6,8,7,7,7,6,7,7,8,7,7,9,3,2,4,1,4,2,4,2,3,High\n",
      "5,P102,35,1,4,5,6,5,5,4,6,7,2,3,4,8,8,7,9,2,1,4,6,7,2,High\n",
      "6,P103,52,2,2,4,5,4,3,2,2,4,3,2,2,4,3,4,2,2,3,1,2,3,4,Low\n",
      "7,P104,28,2,3,1,4,3,2,3,4,3,1,4,3,1,3,2,2,4,2,2,3,4,3,Low\n",
      "8,P105,35,2,4,5,6,5,6,5,5,5,6,6,6,5,1,4,3,2,4,6,2,4,1,Medium\n"
     ]
    }
   ],
   "source": [
    "!head \"cancer patient data sets.csv\""
   ]
  },
  {
   "cell_type": "markdown",
   "id": "0fbbc10f",
   "metadata": {},
   "source": [
    "with n being numerical sort and t being delimeter and k being column specified"
   ]
  },
  {
   "cell_type": "code",
   "execution_count": 189,
   "id": "8281ee7b",
   "metadata": {
    "vscode": {
     "languageId": "shellscript"
    }
   },
   "outputs": [],
   "source": [
    "!sort -t ',' -k3 -n \"cancer patient data sets.csv\" > cancer_patient_sorted.csv"
   ]
  },
  {
   "cell_type": "code",
   "execution_count": 190,
   "id": "1c142187",
   "metadata": {
    "vscode": {
     "languageId": "shellscript"
    }
   },
   "outputs": [
    {
     "name": "stdout",
     "output_type": "stream",
     "text": [
      "index,Patient Id,Age,Gender,Air Pollution,Alcohol use,Dust Allergy,OccuPational Hazards,Genetic Risk,chronic Lung Disease,Balanced Diet,Obesity,Smoking,Passive Smoker,Chest Pain,Coughing of Blood,Fatigue,Weight Loss,Shortness of Breath,Wheezing,Swallowing Difficulty,Clubbing of Finger Nails,Frequent Cold,Dry Cough,Snoring,Level\n",
      "130,P215,14,1,2,4,5,6,5,5,4,6,5,4,6,5,5,3,2,1,4,7,2,1,6,Medium\n",
      "19,P115,14,1,2,4,5,6,5,5,4,6,5,4,6,5,5,3,2,1,4,7,2,1,6,Medium\n",
      "241,P315,14,1,2,4,5,6,5,5,4,6,5,4,6,5,5,3,2,1,4,7,2,1,6,Medium\n",
      "35,P13,14,1,2,4,5,6,5,5,4,6,5,4,6,5,5,3,2,1,4,7,2,1,6,Medium\n",
      "352,P415,14,1,2,4,5,6,5,5,4,6,5,4,6,5,5,3,2,1,4,7,2,1,6,Medium\n",
      "574,P615,14,1,2,4,5,6,5,5,4,6,5,4,6,5,5,3,2,1,4,7,2,1,6,Medium\n",
      "685,P715,14,1,2,4,5,6,5,5,4,6,5,4,6,5,5,3,2,1,4,7,2,1,6,Medium\n",
      "796,P815,14,1,2,4,5,6,5,5,4,6,5,4,6,5,5,3,2,1,4,7,2,1,6,Medium\n",
      "907,P915,14,1,2,4,5,6,5,5,4,6,5,4,6,5,5,3,2,1,4,7,2,1,6,Medium\n"
     ]
    }
   ],
   "source": [
    "!head cancer_patient_sorted.csv"
   ]
  },
  {
   "cell_type": "code",
   "execution_count": 191,
   "id": "2a2fd55c",
   "metadata": {
    "vscode": {
     "languageId": "shellscript"
    }
   },
   "outputs": [
    {
     "name": "stdout",
     "output_type": "stream",
     "text": [
      "126,P211,73,1,5,6,6,5,6,5,6,5,8,5,5,5,4,3,6,2,1,2,1,6,2,Medium\n",
      "15,P111,73,1,5,6,6,5,6,5,6,5,8,5,5,5,4,3,6,2,1,2,1,6,2,Medium\n",
      "237,P311,73,1,5,6,6,5,6,5,6,5,8,5,5,5,4,3,6,2,1,2,1,6,2,Medium\n",
      "348,P411,73,1,5,6,6,5,6,5,6,5,8,5,5,5,4,3,6,2,1,2,1,6,2,Medium\n",
      "459,P511,73,1,5,6,6,5,6,5,6,5,8,5,5,5,4,3,6,2,1,2,1,6,2,Medium\n",
      "570,P611,73,1,5,6,6,5,6,5,6,5,8,5,5,5,4,3,6,2,1,2,1,6,2,Medium\n",
      "681,P711,73,1,5,6,6,5,6,5,6,5,8,5,5,5,4,3,6,2,1,2,1,6,2,Medium\n",
      "792,P811,73,1,5,6,6,5,6,5,6,5,8,5,5,5,4,3,6,2,1,2,1,6,2,Medium\n",
      "889,P9,73,1,5,6,6,5,6,5,6,5,8,5,5,5,4,3,6,2,1,2,1,6,2,Medium\n",
      "903,P911,73,1,5,6,6,5,6,5,6,5,8,5,5,5,4,3,6,2,1,2,1,6,2,Medium\n"
     ]
    }
   ],
   "source": [
    "!tail cancer_patient_sorted.csv"
   ]
  },
  {
   "cell_type": "code",
   "execution_count": null,
   "id": "7399289a",
   "metadata": {
    "vscode": {
     "languageId": "shellscript"
    }
   },
   "outputs": [],
   "source": []
  }
 ],
 "metadata": {
  "kernelspec": {
   "display_name": "utaenv",
   "language": "python",
   "name": "python3"
  },
  "language_info": {
   "codemirror_mode": {
    "name": "ipython",
    "version": 3
   },
   "file_extension": ".py",
   "mimetype": "text/x-python",
   "name": "python",
   "nbconvert_exporter": "python",
   "pygments_lexer": "ipython3",
   "version": "3.13.3"
  }
 },
 "nbformat": 4,
 "nbformat_minor": 5
}
