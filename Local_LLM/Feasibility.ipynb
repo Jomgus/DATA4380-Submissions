{
 "cells": [
  {
   "cell_type": "code",
   "execution_count": 1,
   "id": "effb9940",
   "metadata": {},
   "outputs": [
    {
     "name": "stderr",
     "output_type": "stream",
     "text": [
      "/Users/jomus/Code/summer/lora_project/llm_fine_tuning_venv/lib/python3.11/site-packages/tqdm/auto.py:21: TqdmWarning: IProgress not found. Please update jupyter and ipywidgets. See https://ipywidgets.readthedocs.io/en/stable/user_install.html\n",
      "  from .autonotebook import tqdm as notebook_tqdm\n",
      "Fetching 13 files: 100%|██████████| 13/13 [00:00<00:00, 140169.54it/s]\n"
     ]
    },
    {
     "name": "stdout",
     "output_type": "stream",
     "text": [
      "==========\n",
      "?\n",
      "\n",
      "# Answer\n",
      "\n",
      "UTA (University of Texas at Arlington) was founded on February 10, 1917. It was established as a junior college and later became a four-year institution. The university has since grown significantly and is now a major public research university located in Arlington, Texas.\n",
      "==========\n",
      "Prompt: 9 tokens, 9.060 tokens-per-sec\n",
      "Generation: 72 tokens, 7.178 tokens-per-sec\n",
      "Peak memory: 7.861 GB\n",
      "?\n",
      "\n",
      "# Answer\n",
      "\n",
      "UTA (University of Texas at Arlington) was founded on February 10, 1917. It was established as a junior college and later became a four-year institution. The university has since grown significantly and is now a major public research university located in Arlington, Texas.\n"
     ]
    }
   ],
   "source": [
    "from mlx_lm import load, generate\n",
    "\n",
    "#model from hugging face\n",
    "model, tokenizer = load(\"microsoft/Phi-3-mini-4k-instruct\")\n",
    "\n",
    "#  Define a prompt and generate a response\n",
    "prompt = \"When was UTA in arlington founded\"\n",
    "response = generate(model, tokenizer, prompt, max_tokens=150, verbose=True)\n",
    "\n",
    "#  Print the result\n",
    "print(response)"
   ]
  },
  {
   "cell_type": "code",
   "execution_count": null,
   "id": "2d2b8ee7",
   "metadata": {},
   "outputs": [],
   "source": []
  }
 ],
 "metadata": {
  "kernelspec": {
   "display_name": "llm_fine_tuning_venv (3.11.13)",
   "language": "python",
   "name": "python3"
  },
  "language_info": {
   "codemirror_mode": {
    "name": "ipython",
    "version": 3
   },
   "file_extension": ".py",
   "mimetype": "text/x-python",
   "name": "python",
   "nbconvert_exporter": "python",
   "pygments_lexer": "ipython3",
   "version": "3.11.13"
  }
 },
 "nbformat": 4,
 "nbformat_minor": 5
}
